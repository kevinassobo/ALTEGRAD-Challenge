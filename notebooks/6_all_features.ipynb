{
 "cells": [
  {
   "cell_type": "markdown",
   "metadata": {},
   "source": [
    "# COMPUTE ALL FEATURES"
   ]
  },
  {
   "cell_type": "code",
   "execution_count": 1,
   "metadata": {},
   "outputs": [],
   "source": [
    "import os\n",
    "import gc\n",
    "import sys\n",
    "import time\n",
    "import itertools \n",
    "\n",
    "import numpy as np\n",
    "import pandas as pd\n",
    "import networkx as nx\n",
    "\n",
    "from gensim.models.doc2vec import Doc2Vec\n",
    "\n",
    "import paths"
   ]
  },
  {
   "cell_type": "markdown",
   "metadata": {},
   "source": [
    "## 1. Load the data"
   ]
  },
  {
   "cell_type": "code",
   "execution_count": 2,
   "metadata": {},
   "outputs": [],
   "source": [
    "# Read node pairs\n",
    "# Train\n",
    "train_pairs = pd.read_csv(\n",
    "    paths.TRAIN_PAIRS_PATH, \n",
    "    names=['node_1', 'node_2']\n",
    ")\n",
    "train_target = pd.read_csv(\n",
    "    paths.TRAIN_TARGET_PATH,\n",
    "    names=['target']\n",
    ").to_numpy().ravel()\n",
    "\n",
    "# Test\n",
    "test_pairs = pd.read_csv(\n",
    "    paths.TEST_PAIRS_PATH,\n",
    "    names=['node_1', 'node_2']\n",
    ")\n",
    "test_target = pd.read_csv(\n",
    "    paths.TEST_TARGET_PATH,\n",
    "    names=['target']\n",
    ").to_numpy().ravel()\n",
    "\n",
    "# For the Kaggle challenge\n",
    "challenge_pairs = pd.read_csv(\n",
    "    paths.CHALLENGE_PAIRS_PATH,\n",
    "    names=['node_1', 'node_2']\n",
    ")"
   ]
  },
  {
   "cell_type": "code",
   "execution_count": 4,
   "metadata": {},
   "outputs": [],
   "source": [
    "# Read the authors of each paper\n",
    "paper_authors = dict()\n",
    "with open(paths.PAPER_2_AUTHORS_ID_PATH, 'r') as f:\n",
    "    for line in f:\n",
    "        node, node_authors = line.rstrip('\\n').split('|--|')\n",
    "        node_authors = node_authors.split(',')\n",
    "        paper_authors[int(node)] = list(map(int, node_authors))"
   ]
  },
  {
   "cell_type": "code",
   "execution_count": 5,
   "metadata": {},
   "outputs": [],
   "source": [
    "# Read the Doc2vec model\n",
    "doc2vec_model = Doc2Vec.load(paths.DOC2VEC_PATH)"
   ]
  },
  {
   "cell_type": "markdown",
   "metadata": {},
   "source": [
    "## 2. Features based on the papers"
   ]
  },
  {
   "cell_type": "markdown",
   "metadata": {},
   "source": [
    "### 2.1. Semantic Features"
   ]
  },
  {
   "cell_type": "markdown",
   "metadata": {},
   "source": [
    "####  Cosine similarity of abstract embeddings"
   ]
  },
  {
   "cell_type": "code",
   "execution_count": 6,
   "metadata": {},
   "outputs": [],
   "source": [
    "def cosine_similarity_doc2vec(paper_1, paper_2):\n",
    "    \"\"\"Computes the cosine similarity between the abstract embeddings \n",
    "    of two papers/nodes.\"\"\"\n",
    "    # The model was trained on all the papers \n",
    "    return doc2vec_model.docvecs.similarity(paper_1, paper_2)"
   ]
  },
  {
   "cell_type": "markdown",
   "metadata": {},
   "source": [
    "### 2.2. Attribute Features"
   ]
  },
  {
   "cell_type": "markdown",
   "metadata": {},
   "source": [
    "#### Number of common authors"
   ]
  },
  {
   "cell_type": "code",
   "execution_count": 7,
   "metadata": {},
   "outputs": [],
   "source": [
    "def common_authors(paper_1, paper_2):\n",
    "    \"\"\"Computes the number of common author between two papers/nodes.\"\"\"\n",
    "    # The model was trained on all the papers \n",
    "    return len(set(paper_authors[paper_1]) & set(paper_authors[paper_2]))"
   ]
  },
  {
   "cell_type": "markdown",
   "metadata": {},
   "source": [
    "### 2.3. Graph based features"
   ]
  },
  {
   "cell_type": "markdown",
   "metadata": {},
   "source": [
    "#### Degree approches"
   ]
  },
  {
   "cell_type": "code",
   "execution_count": 8,
   "metadata": {},
   "outputs": [],
   "source": [
    "def abs_diff_degree(node_1, node_2, G):\n",
    "    \"\"\"Computes the difference in degree of two nodes in a graph.\"\"\"\n",
    "    return abs(G.degree(node_1) - G.degree(node_2))\n",
    "\n",
    "def sum_degree(node_1, node_2, G):\n",
    "    \"\"\"Computes the difference in degree of two nodes in a graph.\"\"\"\n",
    "    return G.degree(node_1) + G.degree(node_2)"
   ]
  },
  {
   "cell_type": "markdown",
   "metadata": {},
   "source": [
    "#### Local based similarity measures"
   ]
  },
  {
   "cell_type": "code",
   "execution_count": 9,
   "metadata": {},
   "outputs": [],
   "source": [
    "def jaccard_coefficient(node_1, node_2, G):\n",
    "    \"\"\"Computes the jaccard coefficient of two nodes in a graph.\"\"\"\n",
    "    _, _, coeff = list(nx.jaccard_coefficient(G, [(node_1, node_2)]))[0]\n",
    "    return coeff\n",
    "\n",
    "def adamic_adar_index(node_1, node_2, G):\n",
    "    \"\"\"Computes the adamic adar index of two nodes in a graph.\"\"\"\n",
    "    _, _, index = list(nx.adamic_adar_index(G, [(node_1, node_2)]))[0]\n",
    "    return index\n",
    "\n",
    "def pref_attachment(node_1, node_2, G):\n",
    "    \"\"\"Computes the preferential attachment of two nodes in a graph.\"\"\"\n",
    "    _, _, p = list(nx.preferential_attachment(G, [(node_1, node_2)]))[0]\n",
    "    return p\n",
    "\n",
    "def salton_index(node_1, node_2, G):\n",
    "    \"\"\"Computes the salton index of two nodes in a graph.\"\"\"\n",
    "    sqrt_prod = np.sqrt(G.degree(node_1) * G.degree(node_1))\n",
    "    if sqrt_prod == 0:\n",
    "        return 0\n",
    "    return len(list(nx.common_neighbors(G, node_1, node_2))) / sqrt_prod"
   ]
  },
  {
   "cell_type": "markdown",
   "metadata": {},
   "source": [
    "#### Global based similarity measures"
   ]
  },
  {
   "cell_type": "code",
   "execution_count": 10,
   "metadata": {},
   "outputs": [],
   "source": [
    "def shortest_path_length(node_1, node_2, G):\n",
    "    \"\"\"Computes the shortest path length between two nodes in a graph.\"\"\"\n",
    "    try:\n",
    "        length = nx.shortest_path_length(G, node_1, node_2)\n",
    "    except nx.NetworkXNoPath:\n",
    "        length = -1\n",
    "    return length\n",
    "\n",
    "def diff_pagerank(node_1, node_2, pageranks):\n",
    "    \"\"\"Computes the absolute difference in the pageranks \n",
    "    of two nodes in a graph.\"\"\"\n",
    "    return np.abs(pageranks[node_1] - pageranks[node_2])\n",
    "\n",
    "def diff_eigvec_centrality(node_1, node_2, eigvec_centrality):\n",
    "    \"\"\"Computes the absolute difference in the eigenvector centrality\n",
    "    of two nodes in a graph.\"\"\"\n",
    "    return np.abs(eigvec_centrality[node_1] - eigvec_centrality[node_2])\n",
    "\n",
    "def diff_bet_centrality(node_1, node_2, bet_centrality):\n",
    "    \"\"\"Computes the absolute difference in the betweeness centrality \n",
    "    of two nodes in a graph.\"\"\"\n",
    "    return np.abs(bet_centrality[node_1] - bet_centrality[node_2])"
   ]
  },
  {
   "cell_type": "markdown",
   "metadata": {},
   "source": [
    "### 2.4. Computing features"
   ]
  },
  {
   "cell_type": "code",
   "execution_count": 11,
   "metadata": {},
   "outputs": [],
   "source": [
    "def compute_features(df, G):\n",
    "\n",
    "    t0 = time.time()\n",
    "    df[\"n_common_authors\"] = df.apply(\n",
    "        lambda row: common_authors(row['node_1'], row['node_2']),\n",
    "        axis=1\n",
    "    )\n",
    "    print(f\"n_common_authors - done [{round(time.time() - t0,1)}s]\")\n",
    "\n",
    "    t1 = time.time()\n",
    "    df[\"abstract_similarity\"] = df.apply(\n",
    "        lambda row: cosine_similarity_doc2vec(row['node_1'], row['node_2']),\n",
    "        axis=1\n",
    "    )\n",
    "    print(f\"abstract_similarity - done [{round(time.time() - t1,1)}s]\")\n",
    "\n",
    "    t1 = time.time()\n",
    "    df[\"abs_diff_degree\"] = df.apply(\n",
    "        lambda row: abs_diff_degree(row['node_1'], row['node_2'], G),\n",
    "        axis=1\n",
    "    )\n",
    "    print(f\"abs_diff_degree - done [{round(time.time() - t1,1)}s]\")\n",
    "\n",
    "    t1 = time.time()\n",
    "    df[\"sum_degree\"] = df.apply(\n",
    "        lambda row: sum_degree(row['node_1'], row['node_2'], G),\n",
    "        axis=1\n",
    "    ) \n",
    "    print(f\"sum_degree - done [{round(time.time() - t1,1)}s]\")\n",
    "\n",
    "    t1 = time.time()\n",
    "    df[\"jaccard_coeff\"] = df.apply(\n",
    "        lambda row: jaccard_coefficient(row['node_1'], row['node_2'], G),\n",
    "        axis=1\n",
    "    )\n",
    "    print(f\"jaccard_coeff - done [{round(time.time() - t1,1)}s]\")\n",
    "\n",
    "    t1 = time.time()\n",
    "    df[\"adamic_adar_index\"] = df.apply(\n",
    "        lambda row: adamic_adar_index(row['node_1'], row['node_2'], G),\n",
    "        axis=1\n",
    "    )\n",
    "    print(f\"adamic_adar_index - done [{round(time.time() - t1,1)}s]\")\n",
    "\n",
    "    t1 = time.time()\n",
    "    df[\"pref_attachment\"] = df.apply(\n",
    "        lambda row: pref_attachment(row['node_1'], row['node_2'], G),\n",
    "        axis=1\n",
    "    )\n",
    "    print(f\"pref_attachment - done [{round(time.time() - t1,1)}s]\")\n",
    "\n",
    "    t1 = time.time()\n",
    "    df[\"salton_index\"] = df.apply(\n",
    "        lambda row: salton_index(row['node_1'], row['node_2'], G),\n",
    "        axis=1\n",
    "    )\n",
    "    print(f\"salton_index - done [{round(time.time() - t1,1)}s]\")\n",
    "\n",
    "    t1 = time.time()\n",
    "    df[\"shortest_path_length\"] = df.apply(\n",
    "        lambda row: shortest_path_length(row['node_1'], row['node_2'], G),\n",
    "        axis=1\n",
    "    )\n",
    "    print(f\"shortest_path_length - done [{round(time.time() - t1,1)}s]\")\n",
    "\n",
    "    t1 = time.time()\n",
    "    eigvec_centrality = nx.eigenvector_centrality(G)\n",
    "    df[\"diff_eigvec_centrality\"] = df.apply(\n",
    "        lambda row: diff_eigvec_centrality(\n",
    "            row['node_1'], row['node_2'], eigvec_centrality\n",
    "        ), axis=1\n",
    "    )\n",
    "    print(f\"diff_eigvec_centrality - done [{round(time.time() - t1,1)}s]\")\n",
    "\n",
    "    t1 = time.time()\n",
    "    pageranks = nx.pagerank(G)\n",
    "    df[\"diff_pagerank\"] = df.apply(\n",
    "        lambda row: diff_pagerank(\n",
    "            row['node_1'], row['node_2'], pageranks\n",
    "        ), axis=1\n",
    "    )\n",
    "    t2 = time.time()\n",
    "    print(f\"diff_pagerank - done [{round(t2 - t1,1)}s]\")\n",
    "    print(f\"Total time : [{round(t2 - t0,1)}s]\")\n"
   ]
  },
  {
   "cell_type": "markdown",
   "metadata": {},
   "source": [
    "We will save the current computed features in a `pd.HDFStore`. We do this because computing all features is time expensive so we save these one first and then we can read them before computing other features."
   ]
  },
  {
   "cell_type": "code",
   "execution_count": 12,
   "metadata": {},
   "outputs": [
    {
     "name": "stdout",
     "output_type": "stream",
     "text": [
      "The features of the first stage were already computed !\n"
     ]
    }
   ],
   "source": [
    "if not os.path.isfile(paths.STORAGE_STAGE1_PATH):\n",
    "\n",
    "    # Create storage\n",
    "    hdf = pd.HDFStore(paths.STORAGE_STAGE1_PATH)\n",
    "\n",
    "    X_train = train_pairs.copy()\n",
    "    X_test = test_pairs.copy()\n",
    "    X_challenge = challenge_pairs.copy()\n",
    "    \n",
    "    # Train features\n",
    "    # --------------\n",
    "    print(\"Loadin the training graph ...\")\n",
    "    train_graph = nx.read_edgelist(\n",
    "        paths.TRAIN_EDGELIST_PATH, delimiter=',', nodetype=int\n",
    "    )\n",
    "    print(f\"Computing features for the train set\")\n",
    "    print('-'*50)\n",
    "    compute_features(X_train, train_graph)\n",
    "    hdf.put('X_train', X_train, format='table', data_columns=True)\n",
    "\n",
    "    # Test features\n",
    "    # -------------\n",
    "    print(\"Load the test graph ...\")\n",
    "    test_graph = nx.read_edgelist(\n",
    "        paths.TEST_EDGELIST_PATH, delimiter=',', nodetype=int\n",
    "    )\n",
    "    print(f\"Computing features for the test set\")\n",
    "    print('-'*50)\n",
    "    compute_features(X_test, test_graph)\n",
    "    hdf.put('X_test', X_test, format='table', data_columns=True)\n",
    "\n",
    "    # Challenge features\n",
    "    # ------------------\n",
    "    print(\"Loading the full graph ...\")\n",
    "    full_graph = nx.read_edgelist(\n",
    "        paths.FULL_GRAPH_EDGELIST_PATH, delimiter=',', nodetype=int\n",
    "    )\n",
    "    print(f\"Computing features for the challenge set\")\n",
    "    print('-'*50)\n",
    "    compute_features(X_challenge, full_graph)\n",
    "    hdf.put('X_challenge', X_challenge, format='table', data_columns=True)\n",
    "    \n",
    "    # Close storage\n",
    "    hdf.close()\n",
    "\n",
    "    # Remove graphs from memory\n",
    "    del full_graph, train_graph, test_graph\n",
    "    gc.collect()   \n",
    "else:\n",
    "    print(\"The features of the first stage were already computed !\")\n",
    "    # Read the table if the storage exists\n",
    "    X_train = pd.read_hdf(paths.STORAGE_STAGE1_PATH, key='X_train', mode='r')\n",
    "    X_test = pd.read_hdf(paths.STORAGE_STAGE1_PATH, key='X_test', mode='r')\n",
    "    X_challenge = pd.read_hdf(paths.STORAGE_STAGE1_PATH, key='X_challenge', mode='r')"
   ]
  },
  {
   "cell_type": "markdown",
   "metadata": {},
   "source": [
    "## 3. Features based on the authors of the papers"
   ]
  },
  {
   "cell_type": "markdown",
   "metadata": {},
   "source": [
    "Next we will compute features that are based on the authors of the papers. We will use attribute features and features from the author collaboration and citation graphs."
   ]
  },
  {
   "cell_type": "markdown",
   "metadata": {},
   "source": [
    "### 3.1. Load necessary data"
   ]
  },
  {
   "cell_type": "code",
   "execution_count": 14,
   "metadata": {},
   "outputs": [],
   "source": [
    "# Load the author collaboration graph\n",
    "auth_collab_graph = nx.read_weighted_edgelist(\n",
    "    paths.AUTHCOLL_EDGELIST_PATH,\n",
    "    delimiter=',',\n",
    "    nodetype=int\n",
    ")"
   ]
  },
  {
   "cell_type": "markdown",
   "metadata": {},
   "source": [
    "We define a some function to help us explore all the author pairs from two papers."
   ]
  },
  {
   "cell_type": "code",
   "execution_count": 15,
   "metadata": {},
   "outputs": [],
   "source": [
    "def get_pairs_authors(paper_1, paper_2):\n",
    "    \"\"\"Compute all authors pairs from paper_1 x paper_2.\"\"\"\n",
    "    return list(itertools.product(paper_authors[paper_1], paper_authors[paper_2]))\n",
    "\n",
    "def get_edge_weight(G, ebunch):\n",
    "    \"\"\"Get the weight of all node pairs in ebunch. \n",
    "    \n",
    "    Parameters\n",
    "    ----------\n",
    "    G : graph\n",
    "        A NetworkX undirected graph.\n",
    "\n",
    "    ebunch : iterable of node pairs\n",
    "        The weight will be computed for each pair of nodes\n",
    "        given in the iterable. The pairs must be given as 2-tuples\n",
    "        (u, v) where u and v are nodes in the graph. \n",
    "\n",
    "    Return\n",
    "    ------\n",
    "    weight_list : list of the weights of the node pairs.\n",
    "        If a pair is not an edge, its weight will be zero.\n",
    "    \"\"\"\n",
    "    return [\n",
    "        G.get_edge_data(u,v,default={'weight':0})['weight'] \n",
    "        for u,v in ebunch\n",
    "    ]\n",
    "\n",
    "def get_papers_authors_weight(G, paper_1, paper_2):\n",
    "    \"\"\"Compute the list of weights of all author pairs (from paper_1 x paper_2)\n",
    "    in the graph G.\"\"\"\n",
    "    return get_edge_weight(G, get_pairs_authors(paper_1, paper_2))"
   ]
  },
  {
   "cell_type": "markdown",
   "metadata": {},
   "source": [
    "### 3.2. Collaboration features"
   ]
  },
  {
   "cell_type": "markdown",
   "metadata": {},
   "source": [
    "#### Mean weight of authors collaborations"
   ]
  },
  {
   "cell_type": "code",
   "execution_count": 16,
   "metadata": {},
   "outputs": [],
   "source": [
    "def auth_collab_mean_weight(G, paper_1, paper_2):\n",
    "    \"\"\"Compute the average weight of collaboration for the author pairs\n",
    "    from paper_1 x paper_2.\"\"\"\n",
    "    return np.round(np.mean(\n",
    "        get_papers_authors_weight(G, paper_1, paper_2)),2\n",
    "    )\n",
    "    "
   ]
  },
  {
   "cell_type": "markdown",
   "metadata": {},
   "source": [
    "#### 3.3. Citation features"
   ]
  },
  {
   "cell_type": "markdown",
   "metadata": {},
   "source": [
    "#### Mean weight of authors citations"
   ]
  },
  {
   "cell_type": "code",
   "execution_count": 17,
   "metadata": {},
   "outputs": [],
   "source": [
    "def auth_cite_mean_weight(G, paper_1, paper_2):\n",
    "    \"\"\"Compute the average weight of citation for the author pairs\n",
    "    from paper_1 x paper_2.\"\"\"\n",
    "    n_authors_1 = len(paper_authors[paper_1])\n",
    "    n_authors_2 = len(paper_authors[paper_2])\n",
    "    return np.round(\n",
    "        np.mean(\n",
    "            get_papers_authors_weight(G, paper_1, paper_2)\n",
    "        ), 2\n",
    "    ) "
   ]
  },
  {
   "cell_type": "markdown",
   "metadata": {},
   "source": [
    "### 3.4. Compute the new features"
   ]
  },
  {
   "cell_type": "code",
   "execution_count": 18,
   "metadata": {},
   "outputs": [],
   "source": [
    "def compute_features_stage2(df, auth_cite_graph):\n",
    "    t0 = time.time()\n",
    "    df[\"auth_collab_mean_weight\"] = df.apply(\n",
    "        lambda row: auth_collab_mean_weight(\n",
    "            auth_collab_graph, row['node_1'], row['node_2']\n",
    "        ), axis=1\n",
    "    )\n",
    "    print(f\"auth_collab_mean_weight - done [{round(time.time() - t0,1)}s]\")\n",
    "\n",
    "    t1 = time.time()\n",
    "    df[\"auth_cite_mean_weight\"] = df.apply(\n",
    "        lambda row: auth_cite_mean_weight(\n",
    "            auth_cite_graph, row['node_1'], row['node_2']\n",
    "        ), axis=1\n",
    "    )\n",
    "    t2 = time.time()\n",
    "    print(f\"auth_cite_mean_weight - done [{round(t2 - t1,1)}s]\")\n",
    "    print(f\"Total time : [{round(t2 - t0,1)}s]\")"
   ]
  },
  {
   "cell_type": "code",
   "execution_count": 19,
   "metadata": {},
   "outputs": [
    {
     "name": "stdout",
     "output_type": "stream",
     "text": [
      "The features of the second stage were already computed !\n"
     ]
    }
   ],
   "source": [
    "if not os.path.isfile(paths.STORAGE_STAGE2_PATH):\n",
    "\n",
    "    # Create storage\n",
    "    hdf = pd.HDFStore(paths.STORAGE_STAGE2_PATH)\n",
    "    \n",
    "    # Train features\n",
    "    # --------------\n",
    "    print(f\"Loading the train author citation graph ...\")\n",
    "    # Load the train author citation graph\n",
    "    train_auth_cite_graph = nx.read_weighted_edgelist(\n",
    "        paths.TRAIN_AUTHCIT_EDGELIST_PATH,\n",
    "        delimiter=',',\n",
    "        nodetype=int\n",
    "    )\n",
    "    print(f\"Computing features for the training set\")\n",
    "    print('-'*50)\n",
    "    compute_features_stage2(X_train, train_auth_cite_graph)\n",
    "    hdf.put('X_train', X_train, format='table', data_columns=True)\n",
    "\n",
    "    # Test features\n",
    "    # -------------\n",
    "    print(f\"Loading the test author citation graph ...\")\n",
    "    # Load the test author citation graph\n",
    "    test_auth_cite_graph = nx.read_weighted_edgelist(\n",
    "        paths.TEST_AUTHCIT_EDGELIST_PATH,\n",
    "        delimiter=',',\n",
    "        nodetype=int\n",
    "    )\n",
    "    print(f\"Computing features for the test set\")\n",
    "    print('-'*50)\n",
    "    compute_features_stage2(X_test, test_auth_cite_graph)\n",
    "    hdf.put('X_test', X_test, format='table', data_columns=True)\n",
    "\n",
    "    # Challenge features\n",
    "    # ------------------\n",
    "    print(f\"Loading the full author citation graph ...\")\n",
    "    # Load the full author citation graph\n",
    "    auth_cite_graph = nx.read_weighted_edgelist(\n",
    "        paths.FULL_AUTHCIT_EDGELIST_PATH,\n",
    "        delimiter=',',\n",
    "        nodetype=int\n",
    "    )\n",
    "    print(f\"Computing features for the challenge set\")\n",
    "    print('-'*50)\n",
    "    compute_features_stage2(X_challenge, auth_cite_graph)\n",
    "    hdf.put('X_challenge', X_challenge, format='table', data_columns=True)\n",
    "\n",
    "    # Close storage\n",
    "    hdf.close()\n",
    "\n",
    "    # remove graphs from memory\n",
    "    del auth_cite_graph, train_auth_cite_graph, test_auth_cite_graph\n",
    "    gc.collect()\n",
    "else:\n",
    "    print(\"The features of the second stage were already computed !\")\n",
    "    # Read the table if the storage exists\n",
    "    X_train = pd.read_hdf(paths.STORAGE_STAGE2_PATH, key='X_train', mode='r')\n",
    "    X_test = pd.read_hdf(paths.STORAGE_STAGE2_PATH, key='X_test', mode='r')\n",
    "    X_challenge = pd.read_hdf(paths.STORAGE_STAGE2_PATH, key='X_challenge', mode='r')"
   ]
  },
  {
   "cell_type": "code",
   "execution_count": 20,
   "metadata": {},
   "outputs": [],
   "source": [
    "import seaborn as sns \n",
    "import matplotlib.pyplot as plt"
   ]
  },
  {
   "cell_type": "code",
   "execution_count": 26,
   "metadata": {},
   "outputs": [
    {
     "data": {
      "image/png": "[encoded data removed]",
      "text/plain": [
       "<Figure size 640x480 with 2 Axes>"
      ]
     },
     "metadata": {},
     "output_type": "display_data"
    }
   ],
   "source": [
    "sns.heatmap(X_train.corr())\n",
    "plt.show()"
   ]
  },
  {
   "cell_type": "code",
   "execution_count": null,
   "metadata": {},
   "outputs": [],
   "source": []
  }
 ],
 "metadata": {
  "interpreter": {
   "hash": "c13f75b521158b36ba3ff4ac87dceddef9f3d5f34c1f5e4e80e856c73bb49853"
  },
  "kernelspec": {
   "display_name": "Python 3.8.8 64-bit ('base': conda)",
   "language": "python",
   "name": "python3"
  },
  "language_info": {
   "codemirror_mode": {
    "name": "ipython",
    "version": 3
   },
   "file_extension": ".py",
   "mimetype": "text/x-python",
   "name": "python",
   "nbconvert_exporter": "python",
   "pygments_lexer": "ipython3",
   "version": "3.8.8"
  },
  "orig_nbformat": 4
 },
 "nbformat": 4,
 "nbformat_minor": 2
}
