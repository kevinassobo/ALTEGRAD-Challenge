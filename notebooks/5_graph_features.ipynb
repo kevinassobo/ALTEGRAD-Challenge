{
 "cells": [
  {
   "cell_type": "markdown",
   "metadata": {},
   "source": [
    "# GRAPH FEATURES"
   ]
  },
  {
   "cell_type": "markdown",
   "metadata": {},
   "source": [
    "Here we will compute for the three graphs (full graph, test graph, train graph), some features:\n",
    "\n",
    "- **Betweeness centrality** of all the nodes\n",
    "\n",
    "We  use the python library `ensmallen` which is available when downloading the library `grape`. [GraPE](https://github.com/AnacletoLAB/grape) (Graph Processing and Embedding) is a fast graph processing and embedding library, designed to scale with big graphs and to run on both off-the-shelf laptop and desktop computers and High Performance Computing clusters of workstations."
   ]
  },
  {
   "cell_type": "code",
   "execution_count": 1,
   "metadata": {},
   "outputs": [],
   "source": [
    "import os\n",
    "import pickle\n",
    "import networkx as nx\n",
    "from ensmallen import Graph\n",
    "\n",
    "import paths"
   ]
  },
  {
   "cell_type": "markdown",
   "metadata": {},
   "source": [
    "## 1. Load the graphs"
   ]
  },
  {
   "cell_type": "code",
   "execution_count": 2,
   "metadata": {},
   "outputs": [],
   "source": [
    "# Complete graph\n",
    "full_graph = Graph.from_csv(\n",
    "    edge_path=paths.FULL_GRAPH_EDGELIST_PATH,\n",
    "    edge_list_separator=\",\",\n",
    "    edge_list_header=False,\n",
    "    sources_column_number=0,\n",
    "    destinations_column_number=1,\n",
    "    edge_list_numeric_node_ids=True,\n",
    "    directed=False,\n",
    ")\n",
    "\n",
    "# Train graph\n",
    "train_graph = Graph.from_csv(\n",
    "    edge_path=paths.TRAIN_EDGELIST_PATH,\n",
    "    edge_list_separator=\",\",\n",
    "    edge_list_header=False,\n",
    "    sources_column_number=0,\n",
    "    destinations_column_number=1,\n",
    "    edge_list_numeric_node_ids=True,\n",
    "    directed=False,\n",
    ")\n",
    "\n",
    "# Test graph\n",
    "test_graph = Graph.from_csv(\n",
    "    edge_path=paths.TEST_EDGELIST_PATH,\n",
    "    edge_list_separator=\",\",\n",
    "    edge_list_header=False,\n",
    "    sources_column_number=0,\n",
    "    destinations_column_number=1,\n",
    "    edge_list_numeric_node_ids=True,\n",
    "    directed=False,\n",
    ")"
   ]
  },
  {
   "cell_type": "markdown",
   "metadata": {},
   "source": [
    "## 2. Compute Betweeness centrality"
   ]
  },
  {
   "cell_type": "code",
   "execution_count": 15,
   "metadata": {},
   "outputs": [
    {
     "name": "stdout",
     "output_type": "stream",
     "text": [
      "The betweeness centrality for the full graph was already computed !\n"
     ]
    }
   ],
   "source": [
    "# Full graph\n",
    "if not os.path.isfile(paths.FULL_GRAPH_BET_CENT_PATH):\n",
    "    full_graph_bet_cen = full_graph.get_betweenness_centrality(verbose=True)\n",
    "    with open(paths.FULL_GRAPH_BET_CENT_PATH, 'wb') as f:\n",
    "        pickle.dump(full_graph_bet_cen, f)\n",
    "else:\n",
    "    print(\"The betweeness centrality for the full graph was already computed !\")"
   ]
  },
  {
   "cell_type": "code",
   "execution_count": null,
   "metadata": {},
   "outputs": [],
   "source": [
    "# train graph\n",
    "if not os.path.isfile(paths.TRAIN_GRAPH_BET_CENT_PATH):\n",
    "    train_graph_bet_cen = train_graph.get_betweenness_centrality(verbose=True)\n",
    "    with open(paths.TRAIN_GRAPH_BET_CENT_PATH, 'wb') as f:\n",
    "        pickle.dump(train_graph_bet_cen, f)\n",
    "else:\n",
    "    print(\"The betweeness centrality for the train graph was already computed !\")"
   ]
  },
  {
   "cell_type": "code",
   "execution_count": null,
   "metadata": {},
   "outputs": [],
   "source": [
    "# Test graph\n",
    "if not os.path.isfile(paths.TEST_GRAPH_BET_CENT_PATH):\n",
    "    test_graph_bet_cen = test_graph.get_betweenness_centrality(verbose=True)\n",
    "    with open(paths.TEST_GRAPH_BET_CENT_PATH, 'wb') as f:\n",
    "        pickle.dump(test_graph_bet_cen, f)\n",
    "else:\n",
    "    print(\"The betweeness centrality for the test graph was already computed !\")"
   ]
  },
  {
   "cell_type": "markdown",
   "metadata": {},
   "source": [
    "## 3. Compute Closeness centrality"
   ]
  },
  {
   "cell_type": "code",
   "execution_count": null,
   "metadata": {},
   "outputs": [
    {
     "name": "stdout",
     "output_type": "stream",
     "text": [
      "The betweeness centrality for the full graph was already computed !\n"
     ]
    }
   ],
   "source": [
    "# Full graph\n",
    "if not os.path.isfile(paths.FULL_GRAPH_BET_CENT_PATH):\n",
    "    full_graph_clo_cen = full_graph.get_closeness_centrality(verbose=True)\n",
    "    with open(paths.FULL_GRAPH_BET_CENT_PATH, 'wb') as f:\n",
    "        pickle.dump(full_graph_clo_cen, f)\n",
    "else:\n",
    "    print(\"The closeness centrality for the full graph was already computed !\")"
   ]
  },
  {
   "cell_type": "code",
   "execution_count": null,
   "metadata": {},
   "outputs": [],
   "source": []
  }
 ],
 "metadata": {
  "interpreter": {
   "hash": "c13f75b521158b36ba3ff4ac87dceddef9f3d5f34c1f5e4e80e856c73bb49853"
  },
  "kernelspec": {
   "display_name": "Python 3.8.8 64-bit ('base': conda)",
   "language": "python",
   "name": "python3"
  },
  "language_info": {
   "codemirror_mode": {
    "name": "ipython",
    "version": 3
   },
   "file_extension": ".py",
   "mimetype": "text/x-python",
   "name": "python",
   "nbconvert_exporter": "python",
   "pygments_lexer": "ipython3",
   "version": "3.8.8"
  },
  "orig_nbformat": 4
 },
 "nbformat": 4,
 "nbformat_minor": 2
}
