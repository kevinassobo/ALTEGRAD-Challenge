{
 "cells": [
  {
   "cell_type": "markdown",
   "metadata": {},
   "source": [
    "# GRAPH FEATURES"
   ]
  },
  {
   "cell_type": "markdown",
   "metadata": {},
   "source": [
    "Here we will compute for the three graphs (full graph, test graph, train graph), some features:\n",
    "\n",
    "- **Betweeness centrality** of all the nodes"
   ]
  },
  {
   "cell_type": "code",
   "execution_count": 2,
   "metadata": {},
   "outputs": [],
   "source": [
    "import os\n",
    "import pickle\n",
    "import itertools\n",
    "import networkx as nx\n",
    "from multiprocessing import Pool\n",
    "\n",
    "import paths"
   ]
  },
  {
   "cell_type": "markdown",
   "metadata": {},
   "source": [
    "## 1. Load the graphs"
   ]
  },
  {
   "cell_type": "code",
   "execution_count": 5,
   "metadata": {},
   "outputs": [],
   "source": [
    "# Complete graph\n",
    "full_graph = nx.read_edgelist(\n",
    "    paths.FULL_GRAPH_EDGELIST_PATH,\n",
    "    delimiter=',', \n",
    "    nodetype=int\n",
    ")\n",
    "# Train graph\n",
    "train_graph = nx.read_edgelist(\n",
    "    paths.TRAIN_EDGELIST_PATH,\n",
    "    delimiter=',',\n",
    "    nodetype=int\n",
    ")\n",
    "# Test graph\n",
    "test_graph = nx.read_edgelist(\n",
    "    paths.TEST_EDGELIST_PATH,\n",
    "    delimiter=',',\n",
    "    nodetype=int\n",
    ")"
   ]
  },
  {
   "cell_type": "code",
   "execution_count": 10,
   "metadata": {},
   "outputs": [],
   "source": [
    "def chunks(l, n):\n",
    "    \"\"\"Divide a list of nodes `l` in `n` chunks\"\"\"\n",
    "    l_c = iter(l)\n",
    "    while 1:\n",
    "        x = tuple(itertools.islice(l_c, n))\n",
    "        if not x:\n",
    "            return\n",
    "        yield x\n",
    "\n",
    "\n",
    "def betweenness_centrality_parallel(G, processes=None):\n",
    "    \"\"\"Parallel betweenness centrality  function\"\"\"\n",
    "    p = Pool(processes=processes)\n",
    "    node_divisor = len(p._pool) * 4\n",
    "    node_chunks = list(chunks(G.nodes(), int(G.order() / node_divisor)))\n",
    "    num_chunks = len(node_chunks)\n",
    "    bt_sc = p.starmap(\n",
    "        nx.betweenness_centrality_subset,\n",
    "        zip(\n",
    "            [G] * num_chunks,\n",
    "            node_chunks,\n",
    "            [list(G)] * num_chunks,\n",
    "            [True] * num_chunks,\n",
    "            [None] * num_chunks,\n",
    "        ),\n",
    "    )\n",
    "\n",
    "    # Reduce the partial solutions\n",
    "    bt_c = bt_sc[0]\n",
    "    for bt in bt_sc[1:]:\n",
    "        for n in bt:\n",
    "            bt_c[n] += bt[n]\n",
    "    return bt_c\n"
   ]
  },
  {
   "cell_type": "code",
   "execution_count": 3,
   "metadata": {},
   "outputs": [],
   "source": [
    "if not os.path.isfile(paths.FULL_GRAPH_BET_CENT_PATH):\n",
    "    full_graph_betcen = betweenness_centrality_parallel(full_graph, 1000)\n",
    "\n",
    "    with open(paths.FULL_GRAPH_BET_CENT_PATH, \"wb\") as f:\n",
    "        pickle.dump(full_graph_betcen, f)"
   ]
  },
  {
   "cell_type": "code",
   "execution_count": null,
   "metadata": {},
   "outputs": [],
   "source": [
    "if not os.path.isfile(paths.TRAIN_GRAPH_BET_CENT_PATH):\n",
    "    train_graph_betcen = betweenness_centrality_parallel(train_graph, 1000)\n",
    "\n",
    "    with open(paths.TRAIN_GRAPH_BET_CENT_PATH, \"wb\") as f:\n",
    "        pickle.dump(train_graph_betcen, f)"
   ]
  },
  {
   "cell_type": "code",
   "execution_count": null,
   "metadata": {},
   "outputs": [],
   "source": [
    "if not os.path.isfile(paths.TEST_GRAPH_BET_CENT_PATH):\n",
    "    test_graph_betcen = betweenness_centrality_parallel(test_graph, 1000)\n",
    "\n",
    "    with open(paths.TEST_GRAPH_BET_CENT_PATH, \"wb\") as f:\n",
    "        pickle.dump(test_graph_betcen, f)"
   ]
  },
  {
   "cell_type": "code",
   "execution_count": null,
   "metadata": {},
   "outputs": [],
   "source": []
  }
 ],
 "metadata": {
  "interpreter": {
   "hash": "c13f75b521158b36ba3ff4ac87dceddef9f3d5f34c1f5e4e80e856c73bb49853"
  },
  "kernelspec": {
   "display_name": "Python 3.8.8 64-bit ('base': conda)",
   "language": "python",
   "name": "python3"
  },
  "language_info": {
   "codemirror_mode": {
    "name": "ipython",
    "version": 3
   },
   "file_extension": ".py",
   "mimetype": "text/x-python",
   "name": "python",
   "nbconvert_exporter": "python",
   "pygments_lexer": "ipython3",
   "version": "3.8.8"
  },
  "orig_nbformat": 4
 },
 "nbformat": 4,
 "nbformat_minor": 2
}
