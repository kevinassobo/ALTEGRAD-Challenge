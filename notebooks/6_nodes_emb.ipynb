{
 "cells": [
  {
   "cell_type": "markdown",
   "metadata": {},
   "source": [
    "# NODES EMBEDDINGS"
   ]
  },
  {
   "cell_type": "markdown",
   "metadata": {},
   "source": [
    "In this notebook we want to compute the nodes embeddings of the graphs using the python library `grape`. [GraPE](https://github.com/AnacletoLAB/grape) (Graph Processing and Embedding) is a fast graph processing and embedding library, designed to scale with big graphs and to run on both off-the-shelf laptop and desktop computers and High Performance Computing clusters of workstations."
   ]
  },
  {
   "cell_type": "markdown",
   "metadata": {},
   "source": [
    "**NOTE** : The models we will use next are optimized to run with GPU. Therefore it is important to to run this notebook with collab using GPU if not available on your machine."
   ]
  },
  {
   "cell_type": "code",
   "execution_count": null,
   "metadata": {},
   "outputs": [],
   "source": [
    "import sys\n",
    "\n",
    "# if 'google.collab' in sys.modules:\n",
    "#     !pip install grape"
   ]
  },
  {
   "cell_type": "code",
   "execution_count": null,
   "metadata": {},
   "outputs": [],
   "source": [
    "from ensmallen import Graph\n",
    "from embiggen.pipelines import compute_node_embedding\n",
    "from plot_keras_history import plot_history\n",
    "\n",
    "import paths"
   ]
  },
  {
   "cell_type": "markdown",
   "metadata": {},
   "source": [
    "## 1. Load the graphs"
   ]
  },
  {
   "cell_type": "code",
   "execution_count": null,
   "metadata": {},
   "outputs": [],
   "source": [
    "# Complete graph\n",
    "full_graph = Graph.from_csv(\n",
    "    edge_path=paths.FULL_GRAPH_EDGELIST_PATH,\n",
    "    edge_list_separator=\",\",\n",
    "    edge_list_header=False,\n",
    "    sources_column_number=0,\n",
    "    destinations_column_number=1,\n",
    "    edge_list_numeric_node_ids=True,\n",
    "    directed=False,\n",
    ")\n",
    "\n",
    "# Train graph\n",
    "train_graph = Graph.from_csv(\n",
    "    edge_path=paths.TRAIN_EDGELIST_PATH,\n",
    "    edge_list_separator=\",\",\n",
    "    edge_list_header=False,\n",
    "    sources_column_number=0,\n",
    "    destinations_column_number=1,\n",
    "    edge_list_numeric_node_ids=True,\n",
    "    directed=False,\n",
    ")\n",
    "\n",
    "# Test graph\n",
    "test_graph = Graph.from_csv(\n",
    "    edge_path=paths.TEST_EDGELIST_PATH,\n",
    "    edge_list_separator=\",\",\n",
    "    edge_list_header=False,\n",
    "    sources_column_number=0,\n",
    "    destinations_column_number=1,\n",
    "    edge_list_numeric_node_ids=True,\n",
    "    directed=False,\n",
    ")"
   ]
  }
 ],
 "metadata": {
  "interpreter": {
   "hash": "c13f75b521158b36ba3ff4ac87dceddef9f3d5f34c1f5e4e80e856c73bb49853"
  },
  "kernelspec": {
   "display_name": "Python 3.8.8 64-bit ('base': conda)",
   "language": "python",
   "name": "python3"
  },
  "language_info": {
   "name": "python",
   "version": "3.8.8"
  },
  "orig_nbformat": 4
 },
 "nbformat": 4,
 "nbformat_minor": 2
}
