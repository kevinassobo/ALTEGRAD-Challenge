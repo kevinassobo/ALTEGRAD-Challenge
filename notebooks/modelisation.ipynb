{
 "cells": [
  {
   "cell_type": "markdown",
   "metadata": {},
   "source": [
    "# MODELISATION"
   ]
  },
  {
   "cell_type": "code",
   "execution_count": 1,
   "metadata": {},
   "outputs": [],
   "source": [
    "import pickle\n",
    "import os\n",
    "import numpy as np\n",
    "import pandas as pd\n",
    "import networkx as nx\n",
    "import sys\n",
    "import time\n",
    "\n",
    "from gensim.models.doc2vec import Doc2Vec\n",
    "from gensim.models import KeyedVectors\n",
    "\n",
    "import paths"
   ]
  },
  {
   "cell_type": "markdown",
   "metadata": {},
   "source": [
    "## 1. Load the data"
   ]
  },
  {
   "cell_type": "code",
   "execution_count": 2,
   "metadata": {},
   "outputs": [],
   "source": [
    "# Read datasets\n",
    "# Train\n",
    "train_pairs = pd.read_csv(\n",
    "    paths.TRAIN_PAIRS_PATH, \n",
    "    names=['node_1', 'node_2']\n",
    ")\n",
    "train_target = pd.read_csv(\n",
    "    paths.TRAIN_TARGET_PATH,\n",
    "    names=['target']\n",
    ").to_numpy().ravel()\n",
    "\n",
    "# Test\n",
    "test_pairs = pd.read_csv(\n",
    "    paths.TEST_PAIRS_PATH,\n",
    "    names=['node_1', 'node_2']\n",
    ")\n",
    "test_target = pd.read_csv(\n",
    "    paths.TEST_TARGET_PATH,\n",
    "    names=['target']\n",
    ").to_numpy().ravel()\n",
    "\n",
    "# For the Kaggle challenge\n",
    "challenge_pairs = pd.read_csv(\n",
    "    paths.CHALLENGE_PAIRS_PATH,\n",
    "    names=['node_1', 'node_2']\n",
    ")"
   ]
  },
  {
   "cell_type": "code",
   "execution_count": 3,
   "metadata": {},
   "outputs": [],
   "source": [
    "# Load the training graph\n",
    "train_graph = nx.read_edgelist(\n",
    "    paths.TRAIN_EDGELIST_PATH, delimiter=',', nodetype=int\n",
    ")\n",
    "\n",
    "# Load the test graph\n",
    "test_graph = nx.read_edgelist(\n",
    "    paths.TEST_EDGELIST_PATH, delimiter=',', nodetype=int\n",
    ")\n",
    "\n",
    "# Load the full graph\n",
    "full_graph = nx.read_edgelist(\n",
    "    paths.FULL_GRAPH_EDGELIST_PATH, delimiter=',', nodetype=int\n",
    ")"
   ]
  },
  {
   "cell_type": "code",
   "execution_count": 4,
   "metadata": {},
   "outputs": [],
   "source": [
    "# Read the abstract of each paper\n",
    "abstracts = dict()\n",
    "with open(paths.ABSTRACTS_PATH, 'r') as f:\n",
    "    for line in f:\n",
    "        node, abstract = line.split('|--|')\n",
    "        abstracts[int(node)] = abstract\n",
    "\n",
    "# Read the authors to each paper\n",
    "authors = dict()\n",
    "with open(paths.PAPER_2_AUTHORS_ID_PATH, 'r') as f:\n",
    "    for line in f:\n",
    "        node, node_authors = line.rstrip('\\n').split('|--|')\n",
    "        authors[int(node)] = node_authors.split(',')\n"
   ]
  },
  {
   "cell_type": "code",
   "execution_count": 5,
   "metadata": {},
   "outputs": [],
   "source": [
    "# Read the Doc2vec model\n",
    "doc2vec_model = Doc2Vec.load(paths.DOC2VEC_PATH)\n",
    "\n",
    "# Read nodes embeddings\n",
    "node2vec_train = KeyedVectors.load_word2vec_format(paths.NODE2VEC_TRAIN_PATH)\n",
    "node2vec_test = KeyedVectors.load_word2vec_format(paths.NODE2VEC_TEST_PATH)\n",
    "node2vec_full_graph = KeyedVectors.load_word2vec_format(paths.NODE2VEC_FULL_GRAPH_PATH)"
   ]
  },
  {
   "cell_type": "markdown",
   "metadata": {},
   "source": [
    "## 2. Function to compute the features"
   ]
  },
  {
   "cell_type": "markdown",
   "metadata": {},
   "source": [
    "### 2.1. Semantic Features"
   ]
  },
  {
   "cell_type": "markdown",
   "metadata": {},
   "source": [
    "####  Cosine similarity of abstract embeddings"
   ]
  },
  {
   "cell_type": "code",
   "execution_count": 7,
   "metadata": {},
   "outputs": [],
   "source": [
    "def cosine_similarity_doc2vec(paper_1, paper_2):\n",
    "    \"\"\"\n",
    "    Computes the cosine similarity between the abstract embeddings of two papers/nodes.\n",
    "    \"\"\"\n",
    "    # The model was trained on all the papers \n",
    "    return doc2vec_model.docvecs.similarity(paper_1, paper_2)"
   ]
  },
  {
   "cell_type": "markdown",
   "metadata": {},
   "source": [
    "### 2.2. Attribute Features"
   ]
  },
  {
   "cell_type": "markdown",
   "metadata": {},
   "source": [
    "#### Number of common authors"
   ]
  },
  {
   "cell_type": "code",
   "execution_count": 8,
   "metadata": {},
   "outputs": [],
   "source": [
    "def common_authors(paper_1, paper_2):\n",
    "    \"\"\"\n",
    "    Computes the number of common author between two papers/nodes.\n",
    "    \"\"\"\n",
    "    # The model was trained on all the papers \n",
    "    return len(set(authors[paper_1]) & set(authors[paper_2]))"
   ]
  },
  {
   "cell_type": "markdown",
   "metadata": {},
   "source": [
    "### 2.2. Graph based features"
   ]
  },
  {
   "cell_type": "markdown",
   "metadata": {},
   "source": [
    "#### Degree approches"
   ]
  },
  {
   "cell_type": "code",
   "execution_count": 9,
   "metadata": {},
   "outputs": [],
   "source": [
    "def abs_diff_degree(node_1, node_2, G):\n",
    "    \"\"\"\n",
    "    Computes the difference in degree of two nodes in a graph.\n",
    "    \"\"\"\n",
    "    return abs(G.degree(node_1) - G.degree(node_2))\n",
    "\n",
    "\n",
    "def sum_degree(node_1, node_2, G):\n",
    "    \"\"\"\n",
    "    Computes the difference in degree of two nodes in a graph.\n",
    "    \"\"\"\n",
    "    return G.degree(node_1) + G.degree(node_2)"
   ]
  },
  {
   "cell_type": "markdown",
   "metadata": {},
   "source": [
    "#### Local based similarity measures"
   ]
  },
  {
   "cell_type": "code",
   "execution_count": 10,
   "metadata": {},
   "outputs": [],
   "source": [
    "def jaccard_coefficient(node_1, node_2, G):\n",
    "    \"\"\"\n",
    "    Computes the jaccard coefficient of two nodes in a graph.\n",
    "    \"\"\"\n",
    "    _, _, coeff = list(nx.jaccard_coefficient(G, [(node_1, node_2)]))[0]\n",
    "    return coeff\n",
    "\n",
    "\n",
    "def adamic_adar_index(node_1, node_2, G):\n",
    "    \"\"\"\n",
    "    Computes the adamic adar index of two nodes in a graph.\n",
    "    \"\"\"\n",
    "    _, _, index = list(nx.adamic_adar_index(G, [(node_1, node_2)]))[0]\n",
    "    return index\n",
    "\n",
    "\n",
    "def pref_attachment(node_1, node_2, G):\n",
    "    \"\"\" \n",
    "    Computes the preferential attachment of two nodes in a graph.\n",
    "    \"\"\"\n",
    "    _, _, p = list(nx.preferential_attachment(G, [(node_1, node_2)]))[0]\n",
    "    return p\n",
    "\n",
    "\n",
    "def salton_index(node_1, node_2, G):\n",
    "    \"\"\" \n",
    "    Computes the salton index of two nodes in a graph\n",
    "    \"\"\"\n",
    "    sqrt_prod = np.sqrt(G.degree(node_1) * G.degree(node_1))\n",
    "    if sqrt_prod == 0:\n",
    "        return 0\n",
    "    return len(list(nx.common_neighbors(G, node_1, node_2))) / sqrt_prod"
   ]
  },
  {
   "cell_type": "markdown",
   "metadata": {},
   "source": [
    "#### Global based similarity measures"
   ]
  },
  {
   "cell_type": "code",
   "execution_count": 11,
   "metadata": {},
   "outputs": [],
   "source": [
    "def shortest_path_length(node_1, node_2, G):\n",
    "    \"\"\"\n",
    "    Computes the shortest path length between two nodes in a graph.\n",
    "    \"\"\"\n",
    "    try:\n",
    "        length = nx.shortest_path_length(G, node_1, node_2)\n",
    "    except nx.NetworkXNoPath:\n",
    "        length = -1\n",
    "    return length\n",
    "\n",
    "\n",
    "def diff_pagerank(node_1, node_2, pageranks):\n",
    "    \"\"\" \n",
    "    Computes the absolute difference in the pageranks of two nodes in a graph\n",
    "    \"\"\"\n",
    "    return np.abs(pageranks[node_1] - pageranks[node_2])\n",
    "\n",
    "\n",
    "def diff_eigvec_centrality(node_1, node_2, eigvec_centrality):\n",
    "    \"\"\" \n",
    "    Computes the absolute difference in the eigenvector centrality of two nodes in a graph\n",
    "    \"\"\"\n",
    "    return np.abs(eigvec_centrality[node_1] - eigvec_centrality[node_2])\n",
    "\n",
    "\n",
    "def diff_bet_centrality(node_1, node_2, bet_centrality):\n",
    "    \"\"\" \n",
    "    Computes the absolute difference in the betweeness centrality of two nodes in a graph\n",
    "    \"\"\"\n",
    "    return np.abs(bet_centrality[node_1] - bet_centrality[node_2])"
   ]
  },
  {
   "cell_type": "markdown",
   "metadata": {},
   "source": [
    "## 3. Computing features"
   ]
  },
  {
   "cell_type": "code",
   "execution_count": 28,
   "metadata": {},
   "outputs": [],
   "source": [
    "X_train = train_pairs.copy()\n",
    "X_test = test_pairs.copy()\n",
    "X_challenge = challenge_pairs.copy()"
   ]
  },
  {
   "cell_type": "code",
   "execution_count": 34,
   "metadata": {},
   "outputs": [],
   "source": [
    "def compute_features(df, G, name):\n",
    "    print(f\"Computing features for the {name} set\")\n",
    "    print('-'*50)\n",
    "\n",
    "    t0 = time.time()\n",
    "    df[\"n_common_authors\"] = df.apply(\n",
    "        lambda row: common_authors(row['node_1'], row['node_2']),\n",
    "        axis=1\n",
    "    )\n",
    "    print(f\"n_common_authors - done [{round(time.time() - t0,1)}s]\")\n",
    "\n",
    "    t1 = time.time()\n",
    "    df[\"abstract_similarity\"] = df.apply(\n",
    "        lambda row: cosine_similarity_doc2vec(row['node_1'], row['node_2']),\n",
    "        axis=1\n",
    "    )\n",
    "    print(f\"abstract_similarity - done [{round(time.time() - t1,1)}s]\")\n",
    "\n",
    "    t1 = time.time()\n",
    "    df[\"abs_diff_degree\"] = df.apply(\n",
    "        lambda row: abs_diff_degree(row['node_1'], row['node_2'], G),\n",
    "        axis=1\n",
    "    )\n",
    "    print(f\"abs_diff_degree - done [{round(time.time() - t1,1)}s]\")\n",
    "\n",
    "    t1 = time.time()\n",
    "    df[\"sum_degree\"] = df.apply(\n",
    "        lambda row: sum_degree(row['node_1'], row['node_2'], G),\n",
    "        axis=1\n",
    "    ) \n",
    "    print(f\"sum_degree - done [{round(time.time() - t1,1)}s]\")\n",
    "\n",
    "    t1 = time.time()\n",
    "    df[\"jaccard_coeff\"] = df.apply(\n",
    "        lambda row: jaccard_coefficient(row['node_1'], row['node_2'], G),\n",
    "        axis=1\n",
    "    )\n",
    "    print(f\"jaccard_coeff - done [{round(time.time() - t1,1)}s]\")\n",
    "\n",
    "    t1 = time.time()\n",
    "    df[\"adamic_adar_index\"] = df.apply(\n",
    "        lambda row: adamic_adar_index(row['node_1'], row['node_2'], G),\n",
    "        axis=1\n",
    "    )\n",
    "    print(f\"adamic_adar_index - done [{round(time.time() - t1,1)}s]\")\n",
    "\n",
    "    t1 = time.time()\n",
    "    df[\"pref_attachment\"] = df.apply(\n",
    "        lambda row: pref_attachment(row['node_1'], row['node_2'], G),\n",
    "        axis=1\n",
    "    )\n",
    "    print(f\"pref_attachment - done [{round(time.time() - t1,1)}s]\")\n",
    "\n",
    "    t1 = time.time()\n",
    "    df[\"salton_index\"] = df.apply(\n",
    "        lambda row: salton_index(row['node_1'], row['node_2'], G),\n",
    "        axis=1\n",
    "    )\n",
    "    print(f\"salton_index - done [{round(time.time() - t1,1)}s]\")\n",
    "\n",
    "    t1 = time.time()\n",
    "    df[\"shortest_path_length\"] = df.apply(\n",
    "        lambda row: shortest_path_length(row['node_1'], row['node_2'], G),\n",
    "        axis=1\n",
    "    )\n",
    "    print(f\"shortest_path_length - done [{round(time.time() - t1,1)}s]\")\n",
    "\n",
    "    t1 = time.time()\n",
    "    eigvec_centrality = nx.eigenvector_centrality(G)\n",
    "    df[\"diff_eigvec_centrality\"] = df.apply(\n",
    "        lambda row: diff_eigvec_centrality(\n",
    "            row['node_1'], row['node_2'], eigvec_centrality\n",
    "        ), axis=1\n",
    "    )\n",
    "    print(f\"diff_eigvec_centrality - done [{round(time.time() - t1,1)}s]\")\n",
    "\n",
    "    t1 = time.time()\n",
    "    pageranks = nx.pagerank(G)\n",
    "    df[\"diff_pagerank\"] = df.apply(\n",
    "        lambda row: diff_pagerank(\n",
    "            row['node_1'], row['node_2'], pageranks\n",
    "        ), axis=1\n",
    "    )\n",
    "    t2 = time.time()\n",
    "    print(f\"diff_pagerank - done [{round(t2 - t1,1)}s]\")\n",
    "    print(f\"Total time : [{round(t2 - t0,1)}s]\")\n"
   ]
  },
  {
   "cell_type": "code",
   "execution_count": 35,
   "metadata": {},
   "outputs": [
    {
     "name": "stdout",
     "output_type": "stream",
     "text": [
      "Computing features for the test set\n",
      "--------------------------------------------------\n",
      "n_common_authors - done [6.3s]\n",
      "abstract_similarity - done [14.4s]\n",
      "abs_diff_degree - done [8.6s]\n",
      "sum_degree - done [6.6s]\n",
      "jaccard_coeff - done [54.7s]\n",
      "adamic_adar_index - done [46.9s]\n",
      "pref_attachment - done [13.7s]\n",
      "salton_index - done [52.4s]\n",
      "shortest_path_length - done [116.9s]\n",
      "diff_eigvec_centrality - done [23.8s]\n",
      "diff_pagerank - done [10.8s]\n",
      "Total time : [355.0s]\n",
      "Computing features for the challenge set\n",
      "--------------------------------------------------\n",
      "n_common_authors - done [2.2s]\n",
      "abstract_similarity - done [4.4s]\n",
      "abs_diff_degree - done [2.0s]\n",
      "sum_degree - done [1.9s]\n",
      "jaccard_coeff - done [21.9s]\n",
      "adamic_adar_index - done [15.8s]\n",
      "pref_attachment - done [1.9s]\n",
      "salton_index - done [15.1s]\n",
      "shortest_path_length - done [30.4s]\n",
      "diff_eigvec_centrality - done [25.1s]\n",
      "diff_pagerank - done [7.5s]\n",
      "Total time : [128.2s]\n"
     ]
    }
   ],
   "source": [
    "compute_features(X_train, train_graph, 'train')\n",
    "X_train.to_csv(paths.TRAIN_FEATS_PATH, index=False)\n",
    "\n",
    "compute_features(X_test, test_graph, 'test')\n",
    "X_test.to_csv(paths.TEST_FEATS_PATH, index=False)\n",
    "\n",
    "compute_features(X_challenge, full_graph, 'challenge')\n",
    "X_challenge.to_csv(paths.CHALLENGE_FEATS_PATH, index=False)\n"
   ]
  },
  {
   "cell_type": "markdown",
   "metadata": {},
   "source": [
    "## 4. Add Link embeddings"
   ]
  },
  {
   "cell_type": "markdown",
   "metadata": {},
   "source": [
    "Since we have the node/paper embeddings, we have to compute a link embedding because our datasets contain link (pairs of nodes). We define the following operators to do so"
   ]
  },
  {
   "cell_type": "code",
   "execution_count": 6,
   "metadata": {},
   "outputs": [],
   "source": [
    "def operator_hadamard(u, v):\n",
    "    return u * v\n",
    "\n",
    "\n",
    "def operator_l1(u, v):\n",
    "    return np.abs(u - v)\n",
    "\n",
    "\n",
    "def operator_l2(u, v):\n",
    "    return (u - v) ** 2\n",
    "\n",
    "\n",
    "def operator_avg(u, v):\n",
    "    return (u + v) / 2.0"
   ]
  },
  {
   "cell_type": "markdown",
   "metadata": {},
   "source": [
    "### Link topological embeddings"
   ]
  },
  {
   "cell_type": "code",
   "execution_count": 7,
   "metadata": {},
   "outputs": [],
   "source": [
    "def get_node_embedding(node, node_vectors):\n",
    "    \"\"\"\n",
    "    Get the embedding of a node from node2vec model.\n",
    "    \"\"\"\n",
    "    return node_vectors[str(node)]\n",
    "\n",
    "\n",
    "def link_graph_embedding(link_examples, node_vectors, binary_operator):\n",
    "    return [\n",
    "        binary_operator(\n",
    "            get_node_embedding(node_1, node_vectors),\n",
    "            get_node_embedding(node_2, node_vectors)\n",
    "        )\n",
    "        for node_1, node_2 in link_examples\n",
    "    ]\n"
   ]
  },
  {
   "cell_type": "markdown",
   "metadata": {},
   "source": [
    "### Link semantic embeddings"
   ]
  },
  {
   "cell_type": "code",
   "execution_count": 8,
   "metadata": {},
   "outputs": [],
   "source": [
    "def get_semantic_embedding(node, model):\n",
    "    \"\"\"\n",
    "    Get the embedding of a node from node2vec model.\n",
    "    \"\"\"\n",
    "    return model.docvecs[node]\n",
    "\n",
    "\n",
    "def link_semantic_embedding(link_examples, binary_operator, model=doc2vec_model):\n",
    "    return [\n",
    "        binary_operator(\n",
    "            get_semantic_embedding(paper_1, model),\n",
    "            get_semantic_embedding(paper_2, model)\n",
    "        )\n",
    "        for paper_1, paper_2 in link_examples\n",
    "    ]\n"
   ]
  },
  {
   "cell_type": "markdown",
   "metadata": {},
   "source": [
    "## 5. Model"
   ]
  },
  {
   "cell_type": "code",
   "execution_count": 9,
   "metadata": {},
   "outputs": [],
   "source": [
    "from sklearn.pipeline import Pipeline\n",
    "from sklearn.linear_model import LogisticRegression\n",
    "from sklearn.svm import SVC\n",
    "from sklearn.metrics import (\n",
    "    roc_auc_score, log_loss, confusion_matrix, f1_score, accuracy_score, precision_score, recall_score)\n",
    "from sklearn.preprocessing import StandardScaler\n",
    "\n",
    "from xgboost import XGBClassifier"
   ]
  },
  {
   "cell_type": "code",
   "execution_count": 16,
   "metadata": {},
   "outputs": [],
   "source": [
    "# Read datasets\n",
    "X_train = pd.read_csv(paths.TRAIN_FEATS_PATH)\n",
    "train_target = pd.read_csv(paths.TRAIN_TARGET_PATH, header=None).to_numpy().ravel()\n",
    "\n",
    "X_test = pd.read_csv(paths.TEST_FEATS_PATH)\n",
    "test_target = pd.read_csv(paths.TEST_TARGET_PATH, header=None).to_numpy().ravel()\n",
    "\n",
    "X_challenge = pd.read_csv(paths.CHALLENGE_FEATS_PATH)"
   ]
  },
  {
   "cell_type": "code",
   "execution_count": 11,
   "metadata": {},
   "outputs": [],
   "source": [
    "import seaborn as sns\n",
    "import matplotlib.pyplot as plt"
   ]
  },
  {
   "cell_type": "code",
   "execution_count": 17,
   "metadata": {},
   "outputs": [],
   "source": [
    "X_train.drop(columns=['node_1', 'node_2', 'sum_degree', 'diff_pagerank'], inplace=True)\n",
    "X_test.drop(columns=['node_1', 'node_2', 'sum_degree', 'diff_pagerank'], inplace=True)\n",
    "X_challenge.drop(columns=['node_1', 'node_2', 'sum_degree', 'diff_pagerank'], inplace=True)"
   ]
  },
  {
   "cell_type": "code",
   "execution_count": 18,
   "metadata": {},
   "outputs": [
    {
     "data": {
      "image/png": "[encoded data removed]",
      "text/plain": [
       "<Figure size 640x480 with 2 Axes>"
      ]
     },
     "metadata": {},
     "output_type": "display_data"
    }
   ],
   "source": [
    "sns.heatmap(X_train.corr())\n",
    "plt.show()"
   ]
  },
  {
   "cell_type": "markdown",
   "metadata": {},
   "source": [
    "### Add the corresponding link embedding"
   ]
  },
  {
   "cell_type": "code",
   "execution_count": 19,
   "metadata": {},
   "outputs": [
    {
     "name": "stdout",
     "output_type": "stream",
     "text": [
      "Shape of X_train: (349424, 201)\n"
     ]
    }
   ],
   "source": [
    "X_train_graph_emb = link_graph_embedding(\n",
    "    train_pairs.to_numpy(),\n",
    "    node2vec_train,\n",
    "    binary_operator=operator_l1\n",
    ")\n",
    "X_train_sem_emb = link_semantic_embedding(\n",
    "    train_pairs.to_numpy(),\n",
    "    binary_operator=operator_l1\n",
    ")\n",
    "\n",
    "X_train_c = np.concatenate(\n",
    "    (X_train.to_numpy(), np.array(X_train_graph_emb), np.array(X_train_sem_emb)),\n",
    "    axis=1\n",
    ")\n",
    "print(\"Shape of X_train:\", X_train_c.shape)"
   ]
  },
  {
   "cell_type": "code",
   "execution_count": 20,
   "metadata": {},
   "outputs": [
    {
     "name": "stdout",
     "output_type": "stream",
     "text": [
      "Shape of X_test: (436782, 201)\n"
     ]
    }
   ],
   "source": [
    "X_test_graph_emb = link_graph_embedding(\n",
    "    test_pairs.to_numpy(),\n",
    "    node2vec_test,\n",
    "    binary_operator=operator_l1\n",
    ")\n",
    "X_test_sem_emb = link_semantic_embedding(\n",
    "    test_pairs.to_numpy(),\n",
    "    binary_operator=operator_l1\n",
    ")\n",
    "\n",
    "X_test_c = np.concatenate(\n",
    "    (X_test.to_numpy(), np.array(X_test_graph_emb), np.array(X_test_sem_emb)),\n",
    "    axis=1\n",
    ")\n",
    "print(\"Shape of X_test:\", X_test_c.shape)"
   ]
  },
  {
   "cell_type": "code",
   "execution_count": 21,
   "metadata": {},
   "outputs": [
    {
     "name": "stdout",
     "output_type": "stream",
     "text": [
      "Shape of X_challenge: (106692, 201)\n"
     ]
    }
   ],
   "source": [
    "X_challenge_graph_emb = link_graph_embedding(\n",
    "    challenge_pairs.to_numpy(),\n",
    "    node2vec_full_graph,\n",
    "    binary_operator=operator_l1\n",
    ")\n",
    "X_challenge_sem_emb = link_semantic_embedding(\n",
    "    challenge_pairs.to_numpy(),\n",
    "    binary_operator=operator_l1\n",
    ")\n",
    "\n",
    "X_challenge_c = np.concatenate(\n",
    "    (X_challenge.to_numpy(), np.array(X_challenge_graph_emb), np.array(X_challenge_sem_emb)),\n",
    "    axis=1\n",
    ")\n",
    "print(\"Shape of X_challenge:\", X_challenge_c.shape)"
   ]
  },
  {
   "cell_type": "code",
   "execution_count": 22,
   "metadata": {},
   "outputs": [],
   "source": [
    "X_new_c = np.concatenate((X_train_c, X_test_c))\n",
    "y_new = np.concatenate((train_target, test_target))"
   ]
  },
  {
   "cell_type": "code",
   "execution_count": 27,
   "metadata": {},
   "outputs": [
    {
     "name": "stderr",
     "output_type": "stream",
     "text": [
      "/Users/kevinab/anaconda3/lib/python3.8/site-packages/xgboost/sklearn.py:1224: UserWarning: The use of label encoder in XGBClassifier is deprecated and will be removed in a future release. To remove this warning, do the following: 1) Pass option use_label_encoder=False when constructing XGBClassifier object; and 2) Encode your labels (y) as integers starting with 0, i.e. 0, 1, 2, ..., [num_class - 1].\n",
      "  warnings.warn(label_encoder_deprecation_msg, UserWarning)\n"
     ]
    },
    {
     "name": "stdout",
     "output_type": "stream",
     "text": [
      "[23:46:18] WARNING: /Users/runner/miniforge3/conda-bld/xgboost-split_1637426408905/work/src/learner.cc:576: \n",
      "Parameters: { \"sub_sample\" } might not be used.\n",
      "\n",
      "  This could be a false alarm, with some parameters getting used by language bindings but\n",
      "  then being mistakenly passed down to XGBoost core, or some parameter actually being used\n",
      "  but getting flagged wrongly here. Please open an issue if you find any such cases.\n",
      "\n",
      "\n"
     ]
    }
   ],
   "source": [
    "scaler = StandardScaler()\n",
    "X_new_sc = scaler.fit_transform(X_new_c)\n",
    "X_challenge_sc = scaler.transform(X_challenge_c)\n",
    "\n",
    "lr_clf = XGBClassifier(\n",
    "    sub_sample=0.8,learning_rate = 0.2,colsample_bytree=0.6,max_depth=5,\n",
    "    n_estimators=100,min_child_weight=5,gamma=5\n",
    ")\n",
    "lr_clf.fit(X_new_sc, y_new)"
   ]
  },
  {
   "cell_type": "code",
   "execution_count": 23,
   "metadata": {},
   "outputs": [
    {
     "data": {
      "text/plain": [
       "LogisticRegression()"
      ]
     },
     "execution_count": 23,
     "metadata": {},
     "output_type": "execute_result"
    }
   ],
   "source": [
    "scaler = StandardScaler()\n",
    "X_train_sc = scaler.fit_transform(X_train_c)\n",
    "X_test_sc = scaler.transform(X_test_c)\n",
    "X_challenge_sc = scaler.transform(X_challenge_c)\n",
    "\n",
    "lr_clf = LogisticRegression()\n",
    "lr_clf.fit(X_train_sc, train_target)"
   ]
  },
  {
   "cell_type": "code",
   "execution_count": 25,
   "metadata": {},
   "outputs": [
    {
     "data": {
      "text/plain": [
       "0.10884700054453772"
      ]
     },
     "execution_count": 25,
     "metadata": {},
     "output_type": "execute_result"
    }
   ],
   "source": [
    "log_loss(y_new, lr_clf.predict_proba(X_new_sc)[:,1])"
   ]
  },
  {
   "cell_type": "code",
   "execution_count": 26,
   "metadata": {},
   "outputs": [
    {
     "data": {
      "text/plain": [
       "0.13854605082428664"
      ]
     },
     "execution_count": 26,
     "metadata": {},
     "output_type": "execute_result"
    }
   ],
   "source": [
    "log_loss(train_target, lr_clf.predict_proba(X_train_sc)[:,1])"
   ]
  },
  {
   "cell_type": "code",
   "execution_count": 24,
   "metadata": {},
   "outputs": [
    {
     "data": {
      "text/plain": [
       "0.13537734135616686"
      ]
     },
     "execution_count": 24,
     "metadata": {},
     "output_type": "execute_result"
    }
   ],
   "source": [
    "log_loss(test_target, lr_clf.predict_proba(X_test_sc)[:,1])"
   ]
  },
  {
   "cell_type": "code",
   "execution_count": 25,
   "metadata": {},
   "outputs": [
    {
     "data": {
      "text/plain": [
       "0.9892584362952432"
      ]
     },
     "execution_count": 25,
     "metadata": {},
     "output_type": "execute_result"
    }
   ],
   "source": [
    "roc_auc_score(test_target, lr_clf.predict_proba(X_test_sc)[:,1])"
   ]
  },
  {
   "cell_type": "code",
   "execution_count": 63,
   "metadata": {},
   "outputs": [
    {
     "data": {
      "text/plain": [
       "0.9601357198785664"
      ]
     },
     "execution_count": 63,
     "metadata": {},
     "output_type": "execute_result"
    }
   ],
   "source": [
    "recall_score(test_target, lr_clf.predict(X_test_sc))"
   ]
  },
  {
   "cell_type": "code",
   "execution_count": 26,
   "metadata": {},
   "outputs": [],
   "source": [
    "import csv\n",
    "y_pred = lr_clf.predict_proba(X_challenge_sc)\n",
    "y_pred = y_pred[:,1]\n",
    "\n",
    "# Write predictions to a file\n",
    "predictions = zip(range(len(y_pred)), y_pred)\n",
    "with open(\"submission.csv\",\"w\") as pred:\n",
    "    csv_out = csv.writer(pred)\n",
    "    csv_out.writerow(['id','predicted'])\n",
    "    for row in predictions:\n",
    "        csv_out.writerow(row) "
   ]
  },
  {
   "cell_type": "code",
   "execution_count": 145,
   "metadata": {},
   "outputs": [
    {
     "data": {
      "text/plain": [
       "Index(['n_common_authors', 'abstract_similarity', 'jaccard_coeff',\n",
       "       'adamic_adar_index', 'shortest_path_length', 'abs_diff_degree',\n",
       "       'sum_degree'],\n",
       "      dtype='object')"
      ]
     },
     "execution_count": 145,
     "metadata": {},
     "output_type": "execute_result"
    }
   ],
   "source": [
    "X_train.columns"
   ]
  },
  {
   "cell_type": "code",
   "execution_count": 1,
   "metadata": {},
   "outputs": [
    {
     "ename": "NameError",
     "evalue": "name 'pd' is not defined",
     "output_type": "error",
     "traceback": [
      "\u001b[0;31m---------------------------------------------------------------------------\u001b[0m",
      "\u001b[0;31mNameError\u001b[0m                                 Traceback (most recent call last)",
      "\u001b[0;32m<ipython-input-1-cf937bccf16e>\u001b[0m in \u001b[0;36m<module>\u001b[0;34m\u001b[0m\n\u001b[0;32m----> 1\u001b[0;31m \u001b[0mpd\u001b[0m\u001b[0;34m.\u001b[0m\u001b[0mDataFrame\u001b[0m\u001b[0;34m(\u001b[0m\u001b[0mlr_clf\u001b[0m\u001b[0;34m.\u001b[0m\u001b[0mcoef_\u001b[0m\u001b[0;34m[\u001b[0m\u001b[0;34m:\u001b[0m\u001b[0;34m,\u001b[0m\u001b[0;34m:\u001b[0m\u001b[0;36m7\u001b[0m\u001b[0;34m]\u001b[0m\u001b[0;34m,\u001b[0m\u001b[0mcolumns\u001b[0m\u001b[0;34m=\u001b[0m\u001b[0mX_train\u001b[0m\u001b[0;34m.\u001b[0m\u001b[0mcolumns\u001b[0m\u001b[0;34m)\u001b[0m\u001b[0;34m.\u001b[0m\u001b[0mT\u001b[0m\u001b[0;34m\u001b[0m\u001b[0;34m\u001b[0m\u001b[0m\n\u001b[0m",
      "\u001b[0;31mNameError\u001b[0m: name 'pd' is not defined"
     ]
    }
   ],
   "source": []
  },
  {
   "cell_type": "code",
   "execution_count": 33,
   "metadata": {},
   "outputs": [],
   "source": [
    "import seaborn as sns\n",
    "import matplotlib.pyplot as plt"
   ]
  },
  {
   "cell_type": "code",
   "execution_count": 34,
   "metadata": {},
   "outputs": [
    {
     "data": {
      "image/png": "[encoded data removed]",
      "text/plain": [
       "<Figure size 640x480 with 2 Axes>"
      ]
     },
     "metadata": {},
     "output_type": "display_data"
    }
   ],
   "source": [
    "sns.heatmap(X_train.corr())\n",
    "plt.show()"
   ]
  },
  {
   "cell_type": "code",
   "execution_count": null,
   "metadata": {},
   "outputs": [],
   "source": []
  }
 ],
 "metadata": {
  "interpreter": {
   "hash": "c13f75b521158b36ba3ff4ac87dceddef9f3d5f34c1f5e4e80e856c73bb49853"
  },
  "kernelspec": {
   "display_name": "Python 3.8.8 64-bit ('base': conda)",
   "language": "python",
   "name": "python3"
  },
  "language_info": {
   "codemirror_mode": {
    "name": "ipython",
    "version": 3
   },
   "file_extension": ".py",
   "mimetype": "text/x-python",
   "name": "python",
   "nbconvert_exporter": "python",
   "pygments_lexer": "ipython3",
   "version": "3.8.8"
  },
  "orig_nbformat": 4
 },
 "nbformat": 4,
 "nbformat_minor": 2
}
