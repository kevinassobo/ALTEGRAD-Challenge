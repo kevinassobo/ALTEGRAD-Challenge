{
 "cells": [
  {
   "cell_type": "code",
   "execution_count": 2,
   "metadata": {},
   "outputs": [],
   "source": [
    "all_authors = set() # set of all the authors in the dataset\n",
    "node_authors = dict() # dictionnary  node (paper) : list of authors names\n",
    "with open(\"../data/initial_data/authors.txt\", 'r') as f:\n",
    "    for line in f:\n",
    "        node, authors = line.rstrip('\\n').split('|--|')\n",
    "        authors = authors.split(',')\n",
    "        node_authors[int(node)] = authors\n",
    "        all_authors |= set(authors) # '|' is the union operator\n"
   ]
  },
  {
   "cell_type": "code",
   "execution_count": 25,
   "metadata": {},
   "outputs": [],
   "source": [
    "id2author = dict() # dictionnary author id : author name\n",
    "author2id = dict() # dictionnary author name : author id\n",
    "for i, author in enumerate(all_authors):\n",
    "    id2author[i] = author\n",
    "    author2id[author] = i"
   ]
  },
  {
   "cell_type": "code",
   "execution_count": 26,
   "metadata": {},
   "outputs": [],
   "source": [
    "# Save the (id,name) pairs as a text file\n",
    "with open(\"../data/processed_data/id2author.txt\", 'w+') as f: \n",
    "    for id_, author in id2author.items(): \n",
    "        f.write(f\"{id_},{author}\\n\")"
   ]
  },
  {
   "cell_type": "code",
   "execution_count": 32,
   "metadata": {},
   "outputs": [],
   "source": [
    "# Create a new file similar to authors.txt but with authors ids instead of their names\n",
    "with open(\"../data/processed_data/node_authorsID.txt\", 'w+') as f: \n",
    "    for node, authors in node_authors.items():\n",
    "        authors_id = list(map(author2id.get, authors))\n",
    "        authors_id = list(map(str, authors_id))\n",
    "        f.write(f\"{node}|--|{','.join(authors_id)}\\n\")"
   ]
  }
 ],
 "metadata": {
  "interpreter": {
   "hash": "c13f75b521158b36ba3ff4ac87dceddef9f3d5f34c1f5e4e80e856c73bb49853"
  },
  "kernelspec": {
   "display_name": "Python 3.8.8 64-bit ('base': conda)",
   "language": "python",
   "name": "python3"
  },
  "language_info": {
   "codemirror_mode": {
    "name": "ipython",
    "version": 3
   },
   "file_extension": ".py",
   "mimetype": "text/x-python",
   "name": "python",
   "nbconvert_exporter": "python",
   "pygments_lexer": "ipython3",
   "version": "3.8.8"
  },
  "orig_nbformat": 4
 },
 "nbformat": 4,
 "nbformat_minor": 2
}
