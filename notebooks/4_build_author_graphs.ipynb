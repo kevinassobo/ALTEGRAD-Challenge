{
 "cells": [
  {
   "cell_type": "code",
   "execution_count": 52,
   "metadata": {},
   "outputs": [],
   "source": [
    "import csv\n",
    "import itertools\n",
    "from collections import Counter\n",
    "import networkx as nx\n",
    "import numpy as np"
   ]
  },
  {
   "cell_type": "code",
   "execution_count": 7,
   "metadata": {},
   "outputs": [],
   "source": [
    "# paper citation graph\n",
    "G = nx.read_edgelist('../data/initial_data/edgelist.txt', delimiter=',', create_using=nx.Graph(), nodetype=int)\n",
    "\n",
    "# paper - authors ids dict\n",
    "paper_authors = dict()\n",
    "with open('../data/processed_data/authors_ids.txt', 'r') as f:\n",
    "    for line in f:\n",
    "        node, node_authors = line.rstrip('\\n').split('|--|')\n",
    "        paper_authors[int(node)] = list(map(int,node_authors.split(',')))\n"
   ]
  },
  {
   "cell_type": "code",
   "execution_count": 4,
   "metadata": {},
   "outputs": [
    {
     "name": "stdout",
     "output_type": "stream",
     "text": [
      "Number of nodes: 138499\n",
      "Number of edges: 1091955\n"
     ]
    }
   ],
   "source": [
    "nodes = list(G.nodes())\n",
    "n = G.number_of_nodes()\n",
    "m = G.number_of_edges()\n",
    "print('Number of nodes:', n)\n",
    "print('Number of edges:', m)"
   ]
  },
  {
   "cell_type": "markdown",
   "metadata": {},
   "source": [
    "## Author collaboration network"
   ]
  },
  {
   "cell_type": "markdown",
   "metadata": {},
   "source": [
    "We want to create an undirected graph of authors, where two authors are connected by an edge with weight $k$ if there are $k$ papers that they co-authored."
   ]
  },
  {
   "cell_type": "code",
   "execution_count": 56,
   "metadata": {},
   "outputs": [],
   "source": [
    "author_collabs = []\n",
    "for paper in paper_authors:\n",
    "    # Create tuples of author collaborations for one paper\n",
    "    # itertools.combinations(p, r) creates r-length tuples, in sorted order, no repeated elements\n",
    "    # e.g. : list(itertools.combinations('ABC', 2)) >>> [('A', 'B'), ('A', 'B'), ('B', 'C')] \n",
    "    author_collabs += list(itertools.combinations(paper_authors[paper], r=2))"
   ]
  },
  {
   "cell_type": "code",
   "execution_count": 119,
   "metadata": {},
   "outputs": [
    {
     "name": "stdout",
     "output_type": "stream",
     "text": [
      "734098\n",
      "734098\n"
     ]
    }
   ],
   "source": [
    "print(len(author_collabs))\n",
    "# We sort each pair of collab because we consider  that \n",
    "# a collab (author_1, author_2) is the same as a collab (author_2, author_1)\n",
    "author_collabs = list(map(sorted, author_collabs))\n",
    "# The result of sorted is a list so we put it back as a tuple\n",
    "author_collabs = list(map(tuple, author_collabs))\n",
    "print(len(author_collabs))"
   ]
  },
  {
   "cell_type": "code",
   "execution_count": 120,
   "metadata": {},
   "outputs": [
    {
     "name": "stdout",
     "output_type": "stream",
     "text": [
      "529595\n"
     ]
    }
   ],
   "source": [
    "count_author_collabs = Counter(author_collabs)\n",
    "print(len(count_author_collabs))"
   ]
  },
  {
   "cell_type": "code",
   "execution_count": 121,
   "metadata": {},
   "outputs": [],
   "source": [
    "# Write the collaborations in a file where each line 'author_1,author_2,n_collabs'\n",
    "# means that author_1 and author_2 co-authored n_collabs papers\n",
    "with open(\"../data/processed_data/author_collab_edgelist.txt\", 'w+') as f:\n",
    "    for (author_1, author_2), weight in count_author_collabs.items():\n",
    "        f.write(f\"{author_1},{author_2},{weight}\\n\")"
   ]
  },
  {
   "cell_type": "code",
   "execution_count": 122,
   "metadata": {},
   "outputs": [],
   "source": [
    "with open(\"../data/processed_data/id2author.txt\", 'r') as f:\n",
    "    n_authors = len(f.readlines())\n",
    "\n",
    "# paper collaboration graph\n",
    "G_author_collab = nx.read_edgelist(\n",
    "    '../data/processed_data/author_collab_edgelist.txt',\n",
    "    delimiter=',', \n",
    "    create_using=nx.Graph(),\n",
    "    nodetype=int,\n",
    "    data=((\"weight\", int),)\n",
    ")\n",
    "\n",
    "# There are authors who never co-authored a paper \n",
    "# these authors don't have edges (no collaboration) in the graph\n",
    "# so we have to add them \n",
    "# (we give all authors as paramater, the ones that don't exist yet will be added as single nodes)\n",
    "G_author_collab.add_nodes_from(range(n_authors))"
   ]
  },
  {
   "cell_type": "code",
   "execution_count": 123,
   "metadata": {},
   "outputs": [
    {
     "name": "stdout",
     "output_type": "stream",
     "text": [
      "149682\n",
      "529595\n"
     ]
    }
   ],
   "source": [
    "print(len(G_author_collab.nodes()))\n",
    "print(len(G_author_collab.edges()))"
   ]
  },
  {
   "cell_type": "markdown",
   "metadata": {},
   "source": [
    "## Author citation network"
   ]
  },
  {
   "cell_type": "markdown",
   "metadata": {},
   "source": [
    "We want to create an undirected graph of authors, where two authors are connected by an edge with weight $k$ if there are $k$ papers where either one of them has cited the other one."
   ]
  },
  {
   "cell_type": "code",
   "execution_count": 128,
   "metadata": {},
   "outputs": [],
   "source": [
    "author_citations = []\n",
    "for edge in G.edges():\n",
    "    # Create tuples of author citations between two papers\n",
    "    # itertools.product(p, q) creates cartesian product (equivalent to a nested for-loop)\n",
    "    # e.g. : list(itertools.product('AB', 'CD')) >>> [('A', 'C'), ('A', 'D'), ('B', 'C'), ('B', 'D')] \n",
    "    author_citations += list(itertools.product(paper_authors[edge[0]], paper_authors[edge[1]]))"
   ]
  },
  {
   "cell_type": "code",
   "execution_count": 130,
   "metadata": {},
   "outputs": [
    {
     "name": "stdout",
     "output_type": "stream",
     "text": [
      "13355619\n",
      "13355619\n"
     ]
    }
   ],
   "source": [
    "print(len(author_citations))\n",
    "# We sort each pair of citation because we consider  that \n",
    "# a citation (author_1, author_2) is the same as a citation (author_2, author_1)\n",
    "author_citations = list(map(sorted, author_citations))\n",
    "# The result of sorted is a list so we put it back as a tuple\n",
    "author_citations = list(map(tuple, author_citations))\n",
    "print(len(author_citations))"
   ]
  },
  {
   "cell_type": "code",
   "execution_count": 131,
   "metadata": {},
   "outputs": [
    {
     "name": "stdout",
     "output_type": "stream",
     "text": [
      "8050051\n"
     ]
    }
   ],
   "source": [
    "count_author_citations = Counter(author_citations)\n",
    "print(len(count_author_citations))"
   ]
  },
  {
   "cell_type": "code",
   "execution_count": 132,
   "metadata": {},
   "outputs": [],
   "source": [
    "# Write the citations in a file where each line 'author_1,author_2,n_citations'\n",
    "# means that their are n_citations papers where either one of the two author\n",
    "# has cited the other one.\n",
    "with open(\"../data/processed_data/author_citation_edgelist.txt\", 'w+') as f:\n",
    "    for (author_1, author_2), weight in count_author_citations.items():\n",
    "        f.write(f\"{author_1},{author_2},{weight}\\n\")"
   ]
  },
  {
   "cell_type": "code",
   "execution_count": 133,
   "metadata": {},
   "outputs": [],
   "source": [
    "with open(\"../data/processed_data/id2author.txt\", 'r') as f:\n",
    "    n_authors = len(f.readlines())\n",
    "\n",
    "# author citation graph\n",
    "G_author_citation = nx.read_edgelist(\n",
    "    '../data/processed_data/author_citation_edgelist.txt',\n",
    "    delimiter=',', \n",
    "    create_using=nx.Graph(),\n",
    "    nodetype=int,\n",
    "    data=((\"weight\", int),)\n",
    ")"
   ]
  },
  {
   "cell_type": "code",
   "execution_count": 135,
   "metadata": {},
   "outputs": [
    {
     "name": "stdout",
     "output_type": "stream",
     "text": [
      "149682\n",
      "8050051\n"
     ]
    }
   ],
   "source": [
    "print(len(G_author_citation.nodes()))\n",
    "print(len(G_author_citation.edges()))"
   ]
  }
 ],
 "metadata": {
  "interpreter": {
   "hash": "c13f75b521158b36ba3ff4ac87dceddef9f3d5f34c1f5e4e80e856c73bb49853"
  },
  "kernelspec": {
   "display_name": "Python 3.8.8 64-bit ('base': conda)",
   "language": "python",
   "name": "python3"
  },
  "language_info": {
   "codemirror_mode": {
    "name": "ipython",
    "version": 3
   },
   "file_extension": ".py",
   "mimetype": "text/x-python",
   "name": "python",
   "nbconvert_exporter": "python",
   "pygments_lexer": "ipython3",
   "version": "3.8.8"
  },
  "orig_nbformat": 4
 },
 "nbformat": 4,
 "nbformat_minor": 2
}
